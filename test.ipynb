{
 "cells": [
  {
   "cell_type": "code",
   "execution_count": 4,
   "metadata": {},
   "outputs": [],
   "source": [
    "import arxiv"
   ]
  },
  {
   "cell_type": "code",
   "execution_count": 5,
   "metadata": {},
   "outputs": [],
   "source": [
    "res = arxiv.Search(query=\"path planning robotics\", max_results=10)"
   ]
  },
  {
   "cell_type": "code",
   "execution_count": 13,
   "metadata": {},
   "outputs": [
    {
     "name": "stdout",
     "output_type": "stream",
     "text": [
      "Research on the mobile robots intelligent path planning based on ant colony algorithm application in manufacturing logistics\n",
      "Multi-Robot Path Deconfliction through Prioritization by Path Prospects\n",
      "A Novel Knowledge-Based Genetic Algorithm for Robot Path Planning in Complex Environments\n",
      "Informed Guided Rapidly-Exploring Random Trees*-Connect for Path Planning of Walking Robots\n",
      "Optimizing Space Utilization for More Effective Multi-Robot Path Planning\n",
      "Dynamic Path Planning and Replanning for Mobile Robots using RRT*\n",
      "Mobile Robot Path Planning in Dynamic Environments: A Survey\n",
      "3D Path Planning and Obstacle Avoidance Algorithms for Obstacle-Overcoming Robots\n",
      "A Pareto Front-Based Multiobjective Path Planning Algorithm\n",
      "Optimal Path Planning in Distinct Topo-Geometric Classes using Neighborhood-augmented Graph and its Application to Path Planning for a Tethered Robot in 3D\n"
     ]
    }
   ],
   "source": [
    "for i in res.results():\n",
    "    print(i.title)"
   ]
  },
  {
   "cell_type": "code",
   "execution_count": 12,
   "metadata": {},
   "outputs": [
    {
     "data": {
      "text/plain": [
       "arxiv.Result(entry_id='http://arxiv.org/abs/1401.0889v2', updated=datetime.datetime(2014, 1, 7, 12, 44, 35, tzinfo=datetime.timezone.utc), published=datetime.datetime(2014, 1, 5, 13, 21, 59, tzinfo=datetime.timezone.utc), title='Research on the mobile robots intelligent path planning based on ant colony algorithm application in manufacturing logistics', authors=[arxiv.Result.Author('Yue Guo'), arxiv.Result.Author('Xuelian Shen'), arxiv.Result.Author('Zhanfeng Zhu')], summary='With the development of robotics and artificial intelligence field\\nunceasingly thorough, path planning as an important field of robot calculation\\nhas been widespread concern. This paper analyzes the current development of\\nrobot and path planning algorithm and focuses on the advantages and\\ndisadvantages of the traditional intelligent path planning as well as the path\\nplanning. The problem of mobile robot path planning is studied by using ant\\ncolony algorithm, and it also provides some solving methods.', comment='17 pages,7 figures', journal_ref=None, doi=None, primary_category='cs.RO', categories=['cs.RO'], links=[arxiv.Result.Link('http://arxiv.org/abs/1401.0889v2', title=None, rel='alternate', content_type=None), arxiv.Result.Link('http://arxiv.org/pdf/1401.0889v2', title='pdf', rel='related', content_type=None)])"
      ]
     },
     "execution_count": 12,
     "metadata": {},
     "output_type": "execute_result"
    }
   ],
   "source": [
    "paper = next(res.results())\n",
    "paper"
   ]
  },
  {
   "cell_type": "code",
   "execution_count": 14,
   "metadata": {},
   "outputs": [
    {
     "data": {
      "text/plain": [
       "['Yue Guo', 'Xuelian Shen', 'Zhanfeng Zhu']"
      ]
     },
     "execution_count": 14,
     "metadata": {},
     "output_type": "execute_result"
    }
   ],
   "source": [
    "[author.name for author in paper.authors]"
   ]
  },
  {
   "cell_type": "code",
   "execution_count": 16,
   "metadata": {},
   "outputs": [
    {
     "data": {
      "text/plain": [
       "'http://arxiv.org/abs/1401.0889v2'"
      ]
     },
     "execution_count": 16,
     "metadata": {},
     "output_type": "execute_result"
    }
   ],
   "source": [
    "paper.entry_id"
   ]
  },
  {
   "cell_type": "code",
   "execution_count": null,
   "metadata": {},
   "outputs": [],
   "source": []
  }
 ],
 "metadata": {
  "kernelspec": {
   "display_name": "unisearch",
   "language": "python",
   "name": "python3"
  },
  "language_info": {
   "codemirror_mode": {
    "name": "ipython",
    "version": 3
   },
   "file_extension": ".py",
   "mimetype": "text/x-python",
   "name": "python",
   "nbconvert_exporter": "python",
   "pygments_lexer": "ipython3",
   "version": "3.11.3"
  },
  "orig_nbformat": 4
 },
 "nbformat": 4,
 "nbformat_minor": 2
}
